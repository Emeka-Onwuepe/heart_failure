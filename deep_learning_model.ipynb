{
 "cells": [
  {
   "cell_type": "code",
   "execution_count": 1,
   "id": "2eeca213-08f4-49a6-8538-919684c494b0",
   "metadata": {},
   "outputs": [],
   "source": [
    "import pandas as pd\n",
    "import numpy as np\n",
    "import matplotlib.pyplot as plt\n",
    "import seaborn as sns\n",
    "\n",
    "from sklearn.model_selection import train_test_split\n",
    "from sklearn.metrics import (confusion_matrix,\n",
    "                             ConfusionMatrixDisplay,\n",
    "                             classification_report)\n",
    "from sklearn.preprocessing import LabelEncoder,OrdinalEncoder,StandardScaler\n",
    "\n",
    "\n",
    "import warnings\n",
    "warnings.filterwarnings('ignore')"
   ]
  },
  {
   "cell_type": "code",
   "execution_count": 2,
   "id": "3dff0c55-b1d4-4b5c-8e86-30b7a257fc1f",
   "metadata": {},
   "outputs": [],
   "source": [
    "train_data = pd.read_csv('train.csv')\n",
    "test_data = pd.read_csv('test.csv')\n",
    "\n",
    "train_data.columns = [col.lower() for col in train_data.columns]\n",
    "test_data.columns = [col.lower() for col in test_data.columns]\n",
    "\n",
    "train_data.drop('id',axis=1,inplace=True)\n",
    "ids = test_data.pop('id')"
   ]
  },
  {
   "cell_type": "code",
   "execution_count": 3,
   "id": "7a6362a6-c653-4940-b4ef-91cb39449932",
   "metadata": {},
   "outputs": [],
   "source": [
    "neg = train_data[train_data['target']==0]\n",
    "pos = train_data[train_data['target']==1]"
   ]
  },
  {
   "cell_type": "code",
   "execution_count": 4,
   "id": "bf4c5ed0-7e6b-4c0e-94f5-72ffb0158984",
   "metadata": {},
   "outputs": [],
   "source": [
    "# creating our train/test split 004450\n",
    "strat_train_set, strat_test_set = train_test_split(\n",
    "    train_data, test_size=0.2, stratify=train_data[\"target\"], random_state=42)\n",
    "\n",
    "train_features = strat_train_set.drop('target',axis=1)\n",
    "train_label = strat_train_set.target\n",
    "\n",
    "test_features = strat_test_set.drop('target',axis=1)\n",
    "test_label = strat_test_set.target"
   ]
  },
  {
   "cell_type": "code",
   "execution_count": 5,
   "id": "46734054-1f0c-4cae-8844-b73f6153e658",
   "metadata": {},
   "outputs": [],
   "source": [
    "target = train_data.pop('target')"
   ]
  },
  {
   "cell_type": "code",
   "execution_count": 6,
   "id": "3898b724-f55d-4bac-8a74-edb9e34f8ff9",
   "metadata": {},
   "outputs": [],
   "source": [
    "import random\n",
    "import tensorflow as tf\n",
    "from tensorflow import keras\n",
    "from tensorflow.keras import layers\n",
    "from tensorflow import random as tf_random\n",
    "from keras.optimizers import Adam\n",
    "from keras import callbacks"
   ]
  },
  {
   "cell_type": "code",
   "execution_count": 7,
   "id": "7cb51af4-203c-4e7c-86f3-ad21e93b6772",
   "metadata": {},
   "outputs": [],
   "source": [
    "seed = 42\n",
    "random.seed(seed)\n",
    "np.random.seed(seed)\n",
    "tf_random.set_seed(seed)"
   ]
  },
  {
   "cell_type": "code",
   "execution_count": 8,
   "id": "85269ae3-d103-4763-81c6-c9e7429d91d5",
   "metadata": {},
   "outputs": [
    {
     "name": "stdout",
     "output_type": "stream",
     "text": [
      "Weight for class 0: 1.08\n",
      "Weight for class 1: 0.61\n"
     ]
    }
   ],
   "source": [
    "# num_epochs = 15\n",
    "num_epochs = 30\n",
    "learning_rate = 0.0001\n",
    "# layer_1 = 16\n",
    "# layer_2 = 4\n",
    "# output_layer = 1\n",
    "\n",
    "weight_for_0 = (1 / neg.shape[0]) * (train_data.shape[0] / 2.0) -1.6\n",
    "weight_for_1 = (1 / pos.shape[0]) * (train_data.shape[0]  / 2.0)\n",
    "\n",
    "class_weight = {0: weight_for_0, 1: weight_for_1}\n",
    "\n",
    "print('Weight for class 0: {:.2f}'.format(weight_for_0))\n",
    "print('Weight for class 1: {:.2f}'.format(weight_for_1))"
   ]
  },
  {
   "cell_type": "code",
   "execution_count": 9,
   "id": "bf8541e0-cc62-4af7-a65b-d4b61de18c86",
   "metadata": {},
   "outputs": [
    {
     "name": "stdout",
     "output_type": "stream",
     "text": [
      "Epoch 1/30\n",
      "183/183 [==============================] - 1s 2ms/step - loss: 0.7091 - binary_accuracy: 0.6753\n",
      "Epoch 2/30\n",
      "183/183 [==============================] - 0s 2ms/step - loss: 0.4666 - binary_accuracy: 0.7374\n",
      "Epoch 3/30\n",
      "183/183 [==============================] - 0s 2ms/step - loss: 0.4383 - binary_accuracy: 0.7619\n",
      "Epoch 4/30\n",
      "183/183 [==============================] - 0s 2ms/step - loss: 0.4208 - binary_accuracy: 0.7749\n",
      "Epoch 5/30\n",
      "183/183 [==============================] - 0s 2ms/step - loss: 0.4123 - binary_accuracy: 0.7790\n",
      "Epoch 6/30\n",
      "183/183 [==============================] - 0s 2ms/step - loss: 0.4091 - binary_accuracy: 0.7775\n",
      "Epoch 7/30\n",
      "183/183 [==============================] - 0s 2ms/step - loss: 0.3811 - binary_accuracy: 0.7975\n",
      "Epoch 8/30\n",
      "183/183 [==============================] - 0s 2ms/step - loss: 0.3697 - binary_accuracy: 0.7997\n",
      "Epoch 9/30\n",
      "183/183 [==============================] - 0s 2ms/step - loss: 0.3609 - binary_accuracy: 0.8078\n",
      "Epoch 10/30\n",
      "183/183 [==============================] - 0s 2ms/step - loss: 0.3573 - binary_accuracy: 0.7980\n",
      "Epoch 11/30\n",
      "183/183 [==============================] - 0s 2ms/step - loss: 0.3517 - binary_accuracy: 0.8061\n",
      "Epoch 12/30\n",
      "183/183 [==============================] - 0s 2ms/step - loss: 0.3544 - binary_accuracy: 0.8064\n",
      "Epoch 13/30\n",
      "183/183 [==============================] - 0s 2ms/step - loss: 0.3410 - binary_accuracy: 0.8098\n",
      "Epoch 14/30\n",
      "183/183 [==============================] - 0s 3ms/step - loss: 0.3423 - binary_accuracy: 0.8031\n",
      "Epoch 15/30\n",
      "183/183 [==============================] - 1s 4ms/step - loss: 0.3301 - binary_accuracy: 0.8079\n",
      "Epoch 16/30\n",
      "183/183 [==============================] - 0s 2ms/step - loss: 0.3285 - binary_accuracy: 0.8047\n",
      "Epoch 17/30\n",
      "183/183 [==============================] - 0s 2ms/step - loss: 0.3289 - binary_accuracy: 0.8100\n",
      "Epoch 18/30\n",
      "183/183 [==============================] - 0s 2ms/step - loss: 0.3146 - binary_accuracy: 0.8129\n",
      "Epoch 19/30\n",
      "183/183 [==============================] - 0s 2ms/step - loss: 0.3166 - binary_accuracy: 0.8073\n",
      "Epoch 20/30\n",
      "183/183 [==============================] - 1s 3ms/step - loss: 0.3237 - binary_accuracy: 0.8014\n",
      "Epoch 21/30\n",
      "183/183 [==============================] - 0s 2ms/step - loss: 0.3081 - binary_accuracy: 0.8076\n",
      "Epoch 22/30\n",
      "183/183 [==============================] - 0s 2ms/step - loss: 0.3074 - binary_accuracy: 0.8086\n",
      "Epoch 23/30\n",
      "183/183 [==============================] - 1s 3ms/step - loss: 0.3090 - binary_accuracy: 0.8043\n",
      "Epoch 24/30\n",
      "183/183 [==============================] - 0s 3ms/step - loss: 0.2999 - binary_accuracy: 0.8073\n",
      "Epoch 25/30\n",
      "183/183 [==============================] - 1s 3ms/step - loss: 0.2914 - binary_accuracy: 0.8138\n",
      "Epoch 26/30\n",
      "183/183 [==============================] - 0s 2ms/step - loss: 0.2997 - binary_accuracy: 0.8079\n",
      "Epoch 27/30\n",
      "183/183 [==============================] - 1s 3ms/step - loss: 0.2952 - binary_accuracy: 0.8110\n",
      "Epoch 28/30\n",
      "183/183 [==============================] - 1s 3ms/step - loss: 0.2968 - binary_accuracy: 0.8037\n",
      "Epoch 29/30\n",
      "183/183 [==============================] - 1s 3ms/step - loss: 0.2858 - binary_accuracy: 0.8081\n",
      "Epoch 30/30\n",
      "183/183 [==============================] - 0s 3ms/step - loss: 0.2905 - binary_accuracy: 0.8069\n"
     ]
    }
   ],
   "source": [
    "model = keras.Sequential([\n",
    "                            layers.Dense(84),\n",
    "                            layers.Dense(64, activation=\"relu\"),\n",
    "                            layers.Dense(16, activation=\"relu\"),\n",
    "                            layers.Dense(1,activation='sigmoid')\n",
    "                            ])\n",
    "model.compile(optimizer= Adam(learning_rate=learning_rate),\n",
    "              loss=\"binary_crossentropy\", metrics=[\"binary_accuracy\"])\n",
    "# ,\n",
    "history = model.fit(train_features,train_label,epochs=num_epochs,\n",
    "                     class_weight=class_weight,\n",
    "                    # validation_split=0.2,\n",
    "                    # verbose = 0,\n",
    "                   # callbacks\n",
    "                   )"
   ]
  },
  {
   "cell_type": "code",
   "execution_count": 10,
   "id": "9a62d0e3-6376-49ce-821c-ddc0abfd04cc",
   "metadata": {},
   "outputs": [
    {
     "name": "stdout",
     "output_type": "stream",
     "text": [
      "46/46 [==============================] - 0s 1ms/step\n"
     ]
    },
    {
     "data": {
      "text/plain": [
       "array([0, 1, 0, ..., 0, 1, 1])"
      ]
     },
     "execution_count": 10,
     "metadata": {},
     "output_type": "execute_result"
    }
   ],
   "source": [
    "predictions = model.predict(test_features)\n",
    "predictions = np.where(predictions[:,0]<0.5,0,1)\n",
    "predictions"
   ]
  },
  {
   "cell_type": "code",
   "execution_count": 11,
   "id": "8b61e782-9c3b-4239-b41d-5a00617be36f",
   "metadata": {},
   "outputs": [
    {
     "data": {
      "image/png": "[encoded data removed]",
      "text/plain": [
       "<Figure size 1600x1000 with 2 Axes>"
      ]
     },
     "metadata": {},
     "output_type": "display_data"
    }
   ],
   "source": [
    "# let's plot a confusion matrix\n",
    "disp = ConfusionMatrixDisplay.from_predictions(test_label,predictions)\n",
    "\n",
    "fig = disp.figure_\n",
    "fig.set_figwidth(16)\n",
    "fig.set_figheight(10)\n",
    "plt.title('Multi-Class Confusion Matrix (XGBClassifier)');"
   ]
  },
  {
   "cell_type": "code",
   "execution_count": 12,
   "id": "3f97a9b0-7c7a-4472-a880-71919d9a7d0e",
   "metadata": {},
   "outputs": [
    {
     "name": "stdout",
     "output_type": "stream",
     "text": [
      "              precision    recall  f1-score   support\n",
      "\n",
      "           0       0.52      0.65      0.58       272\n",
      "           1       0.92      0.86      0.89      1189\n",
      "\n",
      "    accuracy                           0.82      1461\n",
      "   macro avg       0.72      0.76      0.73      1461\n",
      "weighted avg       0.84      0.82      0.83      1461\n",
      "\n"
     ]
    }
   ],
   "source": [
    "# performance stats \n",
    "print(classification_report(test_label,predictions))"
   ]
  },
  {
   "cell_type": "code",
   "execution_count": 13,
   "id": "1a16a36a-4742-4d16-98b7-f24702cdec54",
   "metadata": {},
   "outputs": [
    {
     "name": "stdout",
     "output_type": "stream",
     "text": [
      "Epoch 1/5\n",
      "229/229 [==============================] - 0s 2ms/step - loss: 0.2832 - binary_accuracy: 0.8101\n",
      "Epoch 2/5\n",
      "229/229 [==============================] - 1s 2ms/step - loss: 0.2785 - binary_accuracy: 0.8080\n",
      "Epoch 3/5\n",
      "229/229 [==============================] - 0s 2ms/step - loss: 0.2810 - binary_accuracy: 0.8087\n",
      "Epoch 4/5\n",
      "229/229 [==============================] - 0s 2ms/step - loss: 0.2877 - binary_accuracy: 0.8031\n",
      "Epoch 5/5\n",
      "229/229 [==============================] - 0s 2ms/step - loss: 0.2705 - binary_accuracy: 0.8151\n"
     ]
    }
   ],
   "source": [
    "history = model.fit(train_data,target,epochs=5,\n",
    "                     class_weight=class_weight,\n",
    "                    # validation_split=0.2,\n",
    "                    # verbose = 0,\n",
    "                   # callbacks\n",
    "                   )"
   ]
  },
  {
   "cell_type": "code",
   "execution_count": 14,
   "id": "9930e722-e13e-4051-9ea4-9bb95b2a6a48",
   "metadata": {},
   "outputs": [
    {
     "name": "stdout",
     "output_type": "stream",
     "text": [
      "85/85 [==============================] - 0s 1ms/step\n"
     ]
    },
    {
     "data": {
      "text/plain": [
       "array([1, 1, 1, ..., 1, 1, 0])"
      ]
     },
     "execution_count": 14,
     "metadata": {},
     "output_type": "execute_result"
    }
   ],
   "source": [
    "predictions = model.predict(test_data)\n",
    "predictions = np.where(predictions[:,0]<0.5,0,1)\n",
    "predictions"
   ]
  },
  {
   "cell_type": "code",
   "execution_count": 15,
   "id": "63c2cbf6-987e-48cc-9010-2883078f0103",
   "metadata": {},
   "outputs": [],
   "source": [
    "data = pd.DataFrame({'id':ids,'target':predictions})"
   ]
  },
  {
   "cell_type": "code",
   "execution_count": 16,
   "id": "b4655d11-effd-4c62-b6b7-1b981770fead",
   "metadata": {},
   "outputs": [],
   "source": [
    "data.to_csv('submission_dl.csv',index=False)"
   ]
  },
  {
   "cell_type": "code",
   "execution_count": null,
   "id": "d24fbf94-ece0-4ddf-91e0-c7e10a137a51",
   "metadata": {},
   "outputs": [],
   "source": []
  }
 ],
 "metadata": {
  "kernelspec": {
   "display_name": "Python 3 (ipykernel)",
   "language": "python",
   "name": "python3"
  },
  "language_info": {
   "codemirror_mode": {
    "name": "ipython",
    "version": 3
   },
   "file_extension": ".py",
   "mimetype": "text/x-python",
   "name": "python",
   "nbconvert_exporter": "python",
   "pygments_lexer": "ipython3",
   "version": "3.10.11"
  }
 },
 "nbformat": 4,
 "nbformat_minor": 5
}
